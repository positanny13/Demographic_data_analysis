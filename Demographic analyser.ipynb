{
 "cells": [
  {
   "cell_type": "markdown",
   "id": "22fb6682",
   "metadata": {},
   "source": [
    "# Problem Statement"
   ]
  },
  {
   "cell_type": "markdown",
   "id": "3657c371",
   "metadata": {},
   "source": [
    "### This is a Python project that analyzes demographic data from a given dataset called \"adult.data.csv\". The project makes use of the Pandas library for data manipulation and analysis.\n",
    "\n",
    "#### The project aims to answer several questions related to the given dataset, including:\n",
    "\n",
    "#### 1.How many individuals belong to each race in the dataset?\n",
    "#### 2.What is the average age of men?\n",
    "#### 3.What percentage of individuals have a Bachelor's degree?\n",
    "#### 4.What percentage of individuals with advanced education (i.e., Bachelors, Masters, or Doctorate) earn more than 50K? What about those without advanced education?\n",
    "#### 5.What is the minimum number of hours a person works per week?\n",
    "#### 6.What percentage of individuals who work the minimum number of hours per week earn more than 50K?\n",
    "#### 7.What country has the highest percentage of individuals who earn more than 50K?\n",
    "#### 8.What is the most popular occupation for individuals who earn more than 50K in India?"
   ]
  },
  {
   "cell_type": "code",
   "execution_count": null,
   "id": "b1e6671c",
   "metadata": {},
   "outputs": [],
   "source": [
    "import pandas as pd\n",
    "\n",
    "\n",
    "def calculate_demographic_data(print_data=True):\n",
    "    # Read data from file\n",
    "    df = pd.read_csv(\"adult.data.csv\")\n",
    "\n",
    "    # How many of each race are represented in this dataset? \n",
    "    race_count =df.groupby(\"race\").size()\n",
    "\n",
    "    # What is the average age of men?\n",
    "    average_age_men = df.groupby(\"sex\")[\"age\"].mean()[\"Male\"].round(1)\n",
    "\n",
    "    # What is the percentage of people who have a Bachelor's degree?\n",
    "    total_bachelor_number=df[\"education\"].value_counts()[\"Bachelors\"] \n",
    "    total_number_of_educategories=df[\"education\"].value_counts().sum()\n",
    " \n",
    "    percentage_bachelors =((total_bachelor_number/total_number_of_educategories)*100).round(1)\n",
    "\n",
    "    # What percentage of people with advanced education (`Bachelors`, `Masters`, or `Doctorate`) make more than 50K?\n",
    "    # What percentage of people without advanced education make more than 50K?\n",
    "\n",
    "    # with and without `Bachelors`, `Masters`, or `Doctorate`\n",
    "    higher_education =df.groupby(\"education\")[\"salary\"].value_counts()[[\"Bachelors\",\"Masters\",\"Doctorate\"]].sum()\n",
    "    lower_education = df.groupby(\"education\")[\"salary\"].value_counts()[['HS-grad', '11th', '9th', 'Some-college',\n",
    "   'Assoc-acdm', 'Assoc-voc', '7th-8th',  'Prof-school',\n",
    "   '5th-6th', '10th', '1st-4th','Preschool', '12th']].sum()\n",
    "    # percentage with salary >50K\n",
    "    higher_education_rich = ((df.groupby(\"salary\")[\"education\"].value_counts()[\">50K\"][[\"Bachelors\",\"Masters\",\"Doctorate\"]].sum()/higher_education)*100).round(1)\n",
    "    lower_education_rich = ((df.groupby(\"salary\")[\"education\"].value_counts()[\">50K\"][['HS-grad', '11th', '9th', 'Some-college',\n",
    "   'Assoc-acdm', 'Assoc-voc', '7th-8th',  'Prof-school',\n",
    "   '5th-6th', '10th', '1st-4th',  '12th']].sum()/lower_education)*100).round(1)\n",
    "\n",
    "    # What is the minimum number of hours a person works per week (hours-per-week feature)?\n",
    "    min_work_hours = df[\"hours-per-week\"].min()\n",
    "\n",
    "    # What percentage of the people who work the minimum number of hours per week have a salary of >50K?\n",
    "    total_min_workers=df.groupby(\"hours-per-week\")[\"salary\"].value_counts()[1].sum()\n",
    "    num_min_workers=df.groupby(\"hours-per-week\")[\"salary\"].value_counts()[1][\">50K\"]\n",
    "    rich_percentage = (num_min_workers/total_min_workers)*100\n",
    "\n",
    "    # What country has the highest percentage of people that earn >50K?\n",
    "    high_salary_count=df.groupby(\"salary\")[\"native-country\"].value_counts()[\">50K\"]\n",
    "    bottom_salary_count=df.groupby(\"salary\")[\"native-country\"].value_counts()[\"<=50K\"]\n",
    "    total_salary_count=high_salary_count+bottom_salary_count\n",
    "    index_needed=((high_salary_count/total_salary_count)*100)\n",
    "    highest_earning_country = index_needed.idxmax()\n",
    "    highest_earning_country_percentage = index_needed.max().round(1)\n",
    "\n",
    "    # Identify the most popular occupation for those who earn >50K in India.\n",
    "    top_IN_occupation = df.groupby([\"native-country\",\"occupation\"])[\"salary\"].value_counts()[\"India\"].idxmax()[0]\n",
    "\n",
    "    return {\n",
    "        'race_count': race_count,\n",
    "        'average_age_men': average_age_men,\n",
    "        'percentage_bachelors': percentage_bachelors,\n",
    "        'higher_education_rich': higher_education_rich,\n",
    "        'lower_education_rich': lower_education_rich,\n",
    "        'min_work_hours': min_work_hours,\n",
    "        'rich_percentage': rich_percentage,\n",
    "        'highest_earning_country': highest_earning_country,\n",
    "        'highest_earning_country_percentage':\n",
    "        highest_earning_country_percentage,\n",
    "        'top_IN_occupation': top_IN_occupation\n",
    "    }\n"
   ]
  },
  {
   "cell_type": "code",
   "execution_count": null,
   "id": "5e62342f",
   "metadata": {},
   "outputs": [],
   "source": [
    "calculate_demographic_data(print_data=True)"
   ]
  },
  {
   "cell_type": "code",
   "execution_count": null,
   "id": "20ca8472",
   "metadata": {},
   "outputs": [],
   "source": []
  }
 ],
 "metadata": {
  "kernelspec": {
   "display_name": "Python 3 (ipykernel)",
   "language": "python",
   "name": "python3"
  },
  "language_info": {
   "codemirror_mode": {
    "name": "ipython",
    "version": 3
   },
   "file_extension": ".py",
   "mimetype": "text/x-python",
   "name": "python",
   "nbconvert_exporter": "python",
   "pygments_lexer": "ipython3",
   "version": "3.10.6"
  }
 },
 "nbformat": 4,
 "nbformat_minor": 5
}
